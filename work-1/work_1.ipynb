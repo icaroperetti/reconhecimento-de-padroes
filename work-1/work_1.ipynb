{
  "nbformat": 4,
  "nbformat_minor": 0,
  "metadata": {
    "colab": {
      "provenance": [],
      "collapsed_sections": []
    },
    "kernelspec": {
      "name": "python3",
      "display_name": "Python 3"
    },
    "language_info": {
      "name": "python"
    }
  },
  "cells": [
    {
      "cell_type": "markdown",
      "source": [
        "\n",
        "\n",
        "[Dataset](https://www.kaggle.com/datasets/rashikrahmanpritom/heart-attack-analysis-prediction-dataset)\n",
        "\n"
      ],
      "metadata": {
        "id": "tHSh9geDhoQf"
      }
    },
    {
      "cell_type": "code",
      "source": [
        "import numpy as np\n",
        "np.set_printoptions(suppress=True) # Suprime notação cientifica\n",
        "from sklearn.model_selection import train_test_split\n",
        "from sklearn.naive_bayes import GaussianNB\n",
        "from sklearn.svm import SVC\n",
        "from sklearn.tree import DecisionTreeClassifier\n",
        "from sklearn.metrics import confusion_matrix,roc_curve,auc\n",
        "from sklearn.decomposition import PCA\n",
        "import pandas as pd \n",
        "import random\n",
        "import matplotlib.pyplot as plt"
      ],
      "metadata": {
        "id": "LWAPuUHZPhmu"
      },
      "execution_count": 1,
      "outputs": []
    },
    {
      "cell_type": "code",
      "source": [
        "from google.colab import drive\n",
        "drive.mount('/content/gdrive')"
      ],
      "metadata": {
        "colab": {
          "base_uri": "https://localhost:8080/"
        },
        "id": "h5kWndfwa7co",
        "outputId": "e4078d4b-bb95-4179-fd32-6e70df7afe8a"
      },
      "execution_count": 2,
      "outputs": [
        {
          "output_type": "stream",
          "name": "stdout",
          "text": [
            "Mounted at /content/gdrive\n"
          ]
        }
      ]
    },
    {
      "cell_type": "code",
      "source": [
        "# Removendo a primeira linha do dataset contendo o nome dos atributos\n",
        "!sed 1d \"/content/gdrive/MyDrive/Reconhecimento de Padrões/Trabalho/heart.csv\" > dataset.csv\n",
        "\n",
        "# Colunas dos dados\n",
        "!cut dataset.csv -d\",\" -f1-13 > data.csv\n",
        "\n",
        "#Coluna dos rótulos\n",
        "!cut dataset.csv -d\",\" -f14 > labels.lab"
      ],
      "metadata": {
        "id": "IdfHMq4RptME"
      },
      "execution_count": 3,
      "outputs": []
    },
    {
      "cell_type": "code",
      "source": [
        "# Carregamento dos dados\n",
        "def loadData(f_data=\"data.csv\",f_labels=\"labels.lab\"):\n",
        "     X = np.loadtxt(f_data,delimiter=\",\")\n",
        "\n",
        "     y  = open(f_labels,\"r\").readlines()\n",
        "\n",
        "     y = [1 if i ==\"1\\n\" else 0 for i in y]\n",
        "     \n",
        "     return X, y"
      ],
      "metadata": {
        "id": "LXpY-f59PjbT"
      },
      "execution_count": 4,
      "outputs": []
    },
    {
      "cell_type": "code",
      "source": [
        "def standardizeData(data,method=\"min\"):\n",
        "  # Transpoe a matriz de dados invertendo linhas e colunas\n",
        "  data_T = data.T\n",
        "\n",
        "  # Cria uma nova estrutura de dados para armazenar os valores normalizados\n",
        "  new_data_T = []\n",
        "\n",
        "  if method == \"min\": # Normaliza os valores pelo min e max\n",
        "    for i in data_T:\n",
        "      new_data_T.append(((i - np.min(i)) / (np.max(i) - np.min(i))))\n",
        "\n",
        "  elif method == \"std\":  # Normaliza pelo desvio padrão\n",
        "    for i in data_T:\n",
        "      new_data = new_data_T.append((i - np.mean(i)) / ((np.std(i, ddof=1))**2))\n",
        "\n",
        "  # Retorna a nova matriz normalizada no formato original\n",
        "  return np.array(new_data_T).T "
      ],
      "metadata": {
        "id": "2ldIVjLjPns6"
      },
      "execution_count": 5,
      "outputs": []
    },
    {
      "cell_type": "code",
      "source": [
        "# Divisão do dataset em conjuntos de treinamento e teste, proporção 2/3\n",
        "def dataSplit(X,y,test_size=0.33,shuffle=True):\n",
        "   X_train, X_test, y_train, y_test = train_test_split(X, y, test_size=test_size, random_state=random.randint(10,48),shuffle=shuffle) \n",
        "   return X_train, X_test, y_train, y_test"
      ],
      "metadata": {
        "id": "LdHPF-64r68N"
      },
      "execution_count": 6,
      "outputs": []
    },
    {
      "cell_type": "code",
      "source": [
        "def printInformation(name, var, n_components, acc, cm, tpr, tnr,singular_vals):\n",
        "  print(\"========================Informations==================================\")\n",
        "  print(f\"Classifier: {name}\")\n",
        "  print(f\"Accumulated Variance: {var}\")\n",
        "  print(f\"Qtd of components: {n_components}\")\n",
        "  print(f\"Accuracy: {acc}\")\n",
        "  print(f\"True Positive Rating: {tpr}\")\n",
        "  print(f\"True Negative Rating: {tnr}\")\n",
        "  print(f\"Principal Components Values: {singular_vals}\")\n",
        "  print(f\"\\nConfusion Matrix\\n {cm}\")"
      ],
      "metadata": {
        "id": "t80wQnuA7Ipa"
      },
      "execution_count": 7,
      "outputs": []
    },
    {
      "cell_type": "code",
      "source": [
        "def trainModels(var, model, classifier_name):\n",
        "  X,y = loadData() # Carregar os dados\n",
        "\n",
        "  # Normalização dos dados\n",
        "  X = standardizeData(X)\n",
        "\n",
        "  # PCA \n",
        "  pca = PCA(n_components=var)\n",
        "  new_dataset = pca.fit_transform(np.copy(X), y) # Ajusta o modelo e aplica a redução de dimensionalidade\n",
        "\n",
        "\n",
        "  # Divisão dos dados entre treinamento e teste\n",
        "  X_train, X_test, y_train, y_test = dataSplit(new_dataset,y)\n",
        "  model.fit(X_train,y_train) # Faz o treinamento \n",
        "\n",
        "  pred = model.predict(X_test) # Vetor com a classificação de cada amostra do teste\n",
        "  # score = model.predict_proba(X_test) \n",
        "\n",
        "  # Acurácia\n",
        "  # print(np.asarray(y_test).shape)\n",
        "  # print((np.sum(pred == np.asarray(y_test)))/ np.asarray(y_test).shape[0])\n",
        "\n",
        "  singular_vals = pca.singular_values_ # Valores dos componentes principais\n",
        "  acc_variance = round(sum(pca.explained_variance_ratio_), 2)\n",
        "  print(f\"acc_variance: {acc_variance}\")\n",
        "\n",
        "  # Matriz de confusão\n",
        "  # Primeiro parametro: O que realmente é\n",
        "  # Segundo parametro: O que a rede retornou como verdade\n",
        "  cm = confusion_matrix(y_test, pred)\n",
        "  tn, fp, fn, tp = confusion_matrix(y_test, pred).ravel()\n",
        "\n",
        "  # Avalia o resultado das predições \n",
        "  # Accuracy, True Positive, True Negative\n",
        "  acc = ((tn+tp) / (tn+fp+fn+tp)) \n",
        "  tpr = (tp / (tp + fn) ) \n",
        "  tnr = (tn / (tn + fp))\n",
        "  \n",
        "  printInformation(classifier_name, var, pca.n_components_, acc, cm, tpr, tnr,singular_vals)\n",
        "\n",
        "  return  acc, tpr, tnr,cm\n"
      ],
      "metadata": {
        "id": "EYvSkIdn77WF"
      },
      "execution_count": 8,
      "outputs": []
    },
    {
      "cell_type": "markdown",
      "source": [
        "**Documentação**\n",
        "\n",
        "\n",
        "[SVM](https://scikit-learn.org/stable/modules/generated/sklearn.svm.SVC.html#sklearn.svm.SVC)\n",
        "\n",
        "\n",
        "\n",
        "\n",
        "1.  [Kernels](https://scikit-learn.org/stable/auto_examples/svm/plot_svm_kernels.html#)\n",
        "\n",
        "\n",
        "[NB](https://scikit-learn.org/stable/modules/generated/sklearn.naive_bayes.GaussianNB.html?highlight=gaussiannb#sklearn.naive_bayes.GaussianNB)\n",
        "\n",
        "[DecisionTreeClassifier](https://scikit-learn.org/stable/modules/generated/sklearn.tree.DecisionTreeClassifier.html?highlight=decisiontreeclassifier#sklearn.tree.DecisionTreeClassifier)\n",
        "\n",
        "\n",
        "\n",
        "\n"
      ],
      "metadata": {
        "id": "sTnnscFcD8s3"
      }
    },
    {
      "cell_type": "code",
      "source": [
        "def main():\n",
        "  variances = [0.75, 0.90, 0.99]\n",
        " \n",
        "  for var in variances:\n",
        "    resultNB = trainModels(var, GaussianNB(), \"Naive Bayes\");\n",
        "    resultSVML = trainModels(var, SVC(kernel=\"linear\",probability=True), \"SVM Linear\");\n",
        "    resultSVMR = trainModels(var,  SVC(kernel=\"rbf\",probability=True), \"SVM RBF\");\n",
        "    resultCART = trainModels(var, DecisionTreeClassifier(splitter=\"random\"),\"CART\");\n",
        "\n",
        "if __name__ == \"__main__\":\n",
        "  main()"
      ],
      "metadata": {
        "colab": {
          "base_uri": "https://localhost:8080/"
        },
        "id": "j2tmjeDu-voE",
        "outputId": "287981c5-2665-4042-b7b7-4f3d032875f6"
      },
      "execution_count": 9,
      "outputs": [
        {
          "output_type": "stream",
          "name": "stdout",
          "text": [
            "acc_variance: 0.76\n",
            "========================Informations==================================\n",
            "Classifier: Naive Bayes\n",
            "Accumulated Variance: 0.75\n",
            "Qtd of components: 5\n",
            "Accuracy: 0.77\n",
            "True Positive Rating: 0.9565217391304348\n",
            "True Negative Rating: 0.6111111111111112\n",
            "Principal Components Values: [9.46442617 7.88012699 6.44173723 5.45120698 5.23886846]\n",
            "\n",
            "Confusion Matrix\n",
            " [[33 21]\n",
            " [ 2 44]]\n",
            "acc_variance: 0.76\n",
            "========================Informations==================================\n",
            "Classifier: SVM Linear\n",
            "Accumulated Variance: 0.75\n",
            "Qtd of components: 5\n",
            "Accuracy: 0.81\n",
            "True Positive Rating: 0.8461538461538461\n",
            "True Negative Rating: 0.7708333333333334\n",
            "Principal Components Values: [9.46442617 7.88012699 6.44173723 5.45120698 5.23886846]\n",
            "\n",
            "Confusion Matrix\n",
            " [[37 11]\n",
            " [ 8 44]]\n",
            "acc_variance: 0.76\n",
            "========================Informations==================================\n",
            "Classifier: SVM RBF\n",
            "Accumulated Variance: 0.75\n",
            "Qtd of components: 5\n",
            "Accuracy: 0.75\n",
            "True Positive Rating: 0.8653846153846154\n",
            "True Negative Rating: 0.625\n",
            "Principal Components Values: [9.46442617 7.88012699 6.44173723 5.45120698 5.23886846]\n",
            "\n",
            "Confusion Matrix\n",
            " [[30 18]\n",
            " [ 7 45]]\n",
            "acc_variance: 0.76\n",
            "========================Informations==================================\n",
            "Classifier: CART\n",
            "Accumulated Variance: 0.75\n",
            "Qtd of components: 5\n",
            "Accuracy: 0.81\n",
            "True Positive Rating: 0.7586206896551724\n",
            "True Negative Rating: 0.8809523809523809\n",
            "Principal Components Values: [9.46442617 7.88012699 6.44173723 5.45120698 5.23886846]\n",
            "\n",
            "Confusion Matrix\n",
            " [[37  5]\n",
            " [14 44]]\n",
            "acc_variance: 0.91\n",
            "========================Informations==================================\n",
            "Classifier: Naive Bayes\n",
            "Accumulated Variance: 0.9\n",
            "Qtd of components: 8\n",
            "Accuracy: 0.79\n",
            "True Positive Rating: 0.8235294117647058\n",
            "True Negative Rating: 0.7551020408163265\n",
            "Principal Components Values: [9.46442617 7.88012699 6.44173723 5.45120698 5.23886846 4.51466662\n",
            " 4.2905315  3.36340634]\n",
            "\n",
            "Confusion Matrix\n",
            " [[37 12]\n",
            " [ 9 42]]\n",
            "acc_variance: 0.91\n",
            "========================Informations==================================\n",
            "Classifier: SVM Linear\n",
            "Accumulated Variance: 0.9\n",
            "Qtd of components: 8\n",
            "Accuracy: 0.83\n",
            "True Positive Rating: 0.9423076923076923\n",
            "True Negative Rating: 0.7083333333333334\n",
            "Principal Components Values: [9.46442617 7.88012699 6.44173723 5.45120698 5.23886846 4.51466662\n",
            " 4.2905315  3.36340634]\n",
            "\n",
            "Confusion Matrix\n",
            " [[34 14]\n",
            " [ 3 49]]\n",
            "acc_variance: 0.91\n",
            "========================Informations==================================\n",
            "Classifier: SVM RBF\n",
            "Accumulated Variance: 0.9\n",
            "Qtd of components: 8\n",
            "Accuracy: 0.84\n",
            "True Positive Rating: 0.8333333333333334\n",
            "True Negative Rating: 0.8478260869565217\n",
            "Principal Components Values: [9.46442617 7.88012699 6.44173723 5.45120698 5.23886846 4.51466662\n",
            " 4.2905315  3.36340634]\n",
            "\n",
            "Confusion Matrix\n",
            " [[39  7]\n",
            " [ 9 45]]\n",
            "acc_variance: 0.91\n",
            "========================Informations==================================\n",
            "Classifier: CART\n",
            "Accumulated Variance: 0.9\n",
            "Qtd of components: 8\n",
            "Accuracy: 0.63\n",
            "True Positive Rating: 0.6379310344827587\n",
            "True Negative Rating: 0.6190476190476191\n",
            "Principal Components Values: [9.46442617 7.88012699 6.44173723 5.45120698 5.23886846 4.51466662\n",
            " 4.2905315  3.36340634]\n",
            "\n",
            "Confusion Matrix\n",
            " [[26 16]\n",
            " [21 37]]\n",
            "acc_variance: 1.0\n",
            "========================Informations==================================\n",
            "Classifier: Naive Bayes\n",
            "Accumulated Variance: 0.99\n",
            "Qtd of components: 13\n",
            "Accuracy: 0.75\n",
            "True Positive Rating: 0.7241379310344828\n",
            "True Negative Rating: 0.7857142857142857\n",
            "Principal Components Values: [9.46442617 7.88012699 6.44173723 5.45120698 5.23886846 4.51466662\n",
            " 4.2905315  3.36340634 3.18759723 2.71733043 2.30175968 2.1471652\n",
            " 1.84585687]\n",
            "\n",
            "Confusion Matrix\n",
            " [[33  9]\n",
            " [16 42]]\n",
            "acc_variance: 1.0\n",
            "========================Informations==================================\n",
            "Classifier: SVM Linear\n",
            "Accumulated Variance: 0.99\n",
            "Qtd of components: 13\n",
            "Accuracy: 0.82\n",
            "True Positive Rating: 0.875\n",
            "True Negative Rating: 0.75\n",
            "Principal Components Values: [9.46442617 7.88012699 6.44173723 5.45120698 5.23886846 4.51466662\n",
            " 4.2905315  3.36340634 3.18759723 2.71733043 2.30175968 2.1471652\n",
            " 1.84585687]\n",
            "\n",
            "Confusion Matrix\n",
            " [[33 11]\n",
            " [ 7 49]]\n",
            "acc_variance: 1.0\n",
            "========================Informations==================================\n",
            "Classifier: SVM RBF\n",
            "Accumulated Variance: 0.99\n",
            "Qtd of components: 13\n",
            "Accuracy: 0.78\n",
            "True Positive Rating: 0.8636363636363636\n",
            "True Negative Rating: 0.7142857142857143\n",
            "Principal Components Values: [9.46442617 7.88012699 6.44173723 5.45120698 5.23886846 4.51466662\n",
            " 4.2905315  3.36340634 3.18759723 2.71733043 2.30175968 2.1471652\n",
            " 1.84585687]\n",
            "\n",
            "Confusion Matrix\n",
            " [[40 16]\n",
            " [ 6 38]]\n",
            "acc_variance: 1.0\n",
            "========================Informations==================================\n",
            "Classifier: CART\n",
            "Accumulated Variance: 0.99\n",
            "Qtd of components: 13\n",
            "Accuracy: 0.68\n",
            "True Positive Rating: 0.5862068965517241\n",
            "True Negative Rating: 0.8095238095238095\n",
            "Principal Components Values: [9.46442617 7.88012699 6.44173723 5.45120698 5.23886846 4.51466662\n",
            " 4.2905315  3.36340634 3.18759723 2.71733043 2.30175968 2.1471652\n",
            " 1.84585687]\n",
            "\n",
            "Confusion Matrix\n",
            " [[34  8]\n",
            " [24 34]]\n"
          ]
        }
      ]
    }
  ]
}