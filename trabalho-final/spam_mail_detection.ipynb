{
  "cells": [
    {
      "cell_type": "code",
      "execution_count": 32,
      "metadata": {
        "colab": {
          "base_uri": "https://localhost:8080/"
        },
        "id": "aaZuSDSIlF-L",
        "outputId": "e17d3043-3292-449e-dad0-d3c0d5beda22"
      },
      "outputs": [
        {
          "output_type": "stream",
          "name": "stderr",
          "text": [
            "[nltk_data] Downloading package stopwords to /root/nltk_data...\n",
            "[nltk_data]   Package stopwords is already up-to-date!\n"
          ]
        }
      ],
      "source": [
        "import time\n",
        "from sklearn.feature_extraction.text import CountVectorizer\n",
        "from sklearn.svm import SVC\n",
        "from sklearn.metrics import confusion_matrix,ConfusionMatrixDisplay\n",
        "from sklearn.model_selection import train_test_split\n",
        "import seaborn as sns\n",
        "import numpy as np\n",
        "import pandas as pd\n",
        "import random\n",
        "from imblearn.over_sampling import SMOTE\n",
        "from sklearn.naive_bayes import GaussianNB\n",
        "from sklearn import metrics\n",
        "import matplotlib.pyplot as plt\n",
        "import warnings\n",
        "warnings.simplefilter(action=\"ignore\", category=FutureWarning)\n",
        "np.set_printoptions(suppress=True) # Suprime notação cientifica\n",
        "\n",
        "import nltk\n",
        "nltk.download('stopwords')\n",
        "from nltk.corpus import stopwords\n",
        "import string"
      ]
    },
    {
      "cell_type": "code",
      "execution_count": 33,
      "metadata": {
        "colab": {
          "base_uri": "https://localhost:8080/"
        },
        "id": "52MmBejelujn",
        "outputId": "bc93ccec-4b43-407d-dab0-f1133b515217"
      },
      "outputs": [
        {
          "output_type": "stream",
          "name": "stdout",
          "text": [
            "Mounted at /content/gdrive\n"
          ]
        }
      ],
      "source": [
        "from google.colab import drive\n",
        "drive.mount('/content/gdrive')"
      ]
    },
    {
      "cell_type": "code",
      "execution_count": 34,
      "metadata": {
        "id": "IWloWLOgum0Y"
      },
      "outputs": [],
      "source": [
        "path = \"/content/gdrive/MyDrive/Reconhecimento de Padrões/spam-detection/spam_ham_dataset.csv\""
      ]
    },
    {
      "cell_type": "code",
      "execution_count": 35,
      "metadata": {
        "id": "6BSSGsww3uqU"
      },
      "outputs": [],
      "source": [
        "# Remove pontuações e stopwords do texto e retorna uma matriz com uma palavra\n",
        "# do texto em cada posição\n",
        "def process_text(text):\n",
        "   \n",
        "    nopunc = [char for char in text if char not in string.punctuation]\n",
        "    nopunc = ''.join(nopunc)\n",
        "\n",
        "    #Limpa palavras\n",
        "    clean_words = [word for word in nopunc.split() if word.lower() not in stopwords.words('english') and word != 'Subject']\n",
        "\n",
        "    return clean_words"
      ]
    },
    {
      "cell_type": "code",
      "source": [
        "data = ['this is a demo document used as demo','this is a document test used as test document','demo is the last document used']\n",
        "vectorizer = CountVectorizer(analyzer=process_text)\n",
        "test = vectorizer.fit_transform(data)\n",
        "print(vectorizer.get_feature_names())\n",
        "print(test.toarray())"
      ],
      "metadata": {
        "colab": {
          "base_uri": "https://localhost:8080/"
        },
        "id": "DojhlM9gNVj9",
        "outputId": "dcce8b91-ae46-46b0-8b18-7ef984c977bd"
      },
      "execution_count": 46,
      "outputs": [
        {
          "output_type": "stream",
          "name": "stdout",
          "text": [
            "['demo', 'document', 'last', 'test', 'used']\n",
            "[[2 1 0 0 1]\n",
            " [0 2 0 2 1]\n",
            " [1 1 1 0 1]]\n"
          ]
        }
      ]
    },
    {
      "cell_type": "code",
      "execution_count": 37,
      "metadata": {
        "id": "tSwGm6qIm2Wk"
      },
      "outputs": [],
      "source": [
        "def loadData(data=path):\n",
        "     df = pd.read_csv(data)\n",
        "     df.dropna(inplace=True)\n",
        "     df.reset_index(inplace=True) # Corrigir problema de index\n",
        "     X = df['text'].values\n",
        "     y = df['label_num'].values\n",
        "\n",
        "     return X, y"
      ]
    },
    {
      "cell_type": "code",
      "execution_count": 38,
      "metadata": {
        "id": "SKxQAlu0CKFL"
      },
      "outputs": [],
      "source": [
        "def balanceData(X,y):\n",
        "   X = textVectorizer(X)\n",
        "\n",
        "   smote_bal = SMOTE(random_state = 100)\n",
        "\n",
        "   X_res, y_res = smote_bal.fit_resample(X, y) \n",
        "\n",
        "     \n",
        "   return X_res,y_res"
      ]
    },
    {
      "cell_type": "code",
      "source": [
        "df = pd.read_csv(path)"
      ],
      "metadata": {
        "id": "e1WjgAEWWiLp"
      },
      "execution_count": 39,
      "outputs": []
    },
    {
      "cell_type": "code",
      "execution_count": null,
      "metadata": {
        "colab": {
          "base_uri": "https://localhost:8080/",
          "height": 310
        },
        "id": "vzxJjd-pATet",
        "outputId": "37935e21-dd32-4217-d235-7d2bd4d6554c"
      },
      "outputs": [
        {
          "output_type": "display_data",
          "data": {
            "text/plain": [
              "<Figure size 432x288 with 1 Axes>"
            ],
            "image/png": "[encoded data removed]"
          },
          "metadata": {
            "needs_background": "light"
          }
        }
      ],
      "source": [
        "# Dados desbalanceados\n",
        "# sns.countplot(df.label_num, palette = \"OrRd\")\n",
        "# plt.box(False)\n",
        "# plt.xlabel('Spam (0) Não / Sim (1)', fontsize = 11)\n",
        "# plt.title('Contagem de Classes \\n')\n",
        "# plt.show();"
      ]
    },
    {
      "cell_type": "code",
      "source": [
        "# Dados balanceados\n",
        "# X,y = loadData()\n",
        "# X,y = balanceData(X,y)"
      ],
      "metadata": {
        "id": "6aq-uDEgYMNx"
      },
      "execution_count": null,
      "outputs": []
    },
    {
      "cell_type": "code",
      "source": [
        "# sns.countplot(y, palette = \"OrRd\")\n",
        "# plt.box(False)\n",
        "# plt.xlabel('Spam (0) Não / Sim (1)', fontsize = 11)\n",
        "# plt.title('Contagem de Classes Pós Balanceamento\\n')\n",
        "# plt.show();"
      ],
      "metadata": {
        "id": "w6fl_FI9XReb",
        "colab": {
          "base_uri": "https://localhost:8080/",
          "height": 310
        },
        "outputId": "ac8f8b99-7fb4-4dd7-f125-738c58a064dc"
      },
      "execution_count": null,
      "outputs": [
        {
          "output_type": "display_data",
          "data": {
            "text/plain": [
              "<Figure size 432x288 with 1 Axes>"
            ],
            "image/png": "[encoded data removed]"
          },
          "metadata": {
            "needs_background": "light"
          }
        }
      ]
    },
    {
      "cell_type": "code",
      "execution_count": 40,
      "metadata": {
        "id": "s3FxvOsOxCLL"
      },
      "outputs": [],
      "source": [
        "# Retorna um vetor com a contagem de quantas vezes a palavra repetiu no texto recebido\n",
        "def textVectorizer(data):\n",
        "    vectorizer = CountVectorizer(analyzer=process_text)\n",
        "\n",
        "    X = vectorizer.fit_transform(data)\n",
        "\n",
        "    return X.toarray()"
      ]
    },
    {
      "cell_type": "code",
      "execution_count": 41,
      "metadata": {
        "id": "S1aFa1E_x_Ir"
      },
      "outputs": [],
      "source": [
        "# Divisão do dataset em conjuntos de treinamento e teste, proporção 2/3\n",
        "def dataSplit(X,y,test_size=0.33,shuffle=True):\n",
        "   X_train, X_test, y_train, y_test = train_test_split(X, y, test_size=test_size, random_state=24,shuffle=shuffle) \n",
        "   return X_train, X_test, y_train, y_test"
      ]
    },
    {
      "cell_type": "code",
      "execution_count": null,
      "metadata": {
        "id": "2KVG3sXUrwI8"
      },
      "outputs": [],
      "source": [
        "# Imprimir a curva ROC\n",
        "def plotRocCurve(y_test,pred):\n",
        "  fpr, tpr, thresholds = metrics.roc_curve(y_test,pred,pos_label=1)\n",
        "  auc = metrics.auc(fpr,tpr)\n",
        "  print(\"AUC:\", auc)\n",
        "  plt.plot([0,1], [0,1], linestyle='--', lw=2, color='r', label='Chance', alpha=.8)\n",
        "  plt.plot(fpr, tpr, color='b', label=r'ROC (AUC = %0.02F)' % (auc), lw=2, alpha=.8)\n",
        "  plt.suptitle('ROC CURVE')\n",
        "  plt.xlabel('fpr')\n",
        "  plt.ylabel('tpr')\n",
        "  plt.legend(loc='lower right')\n",
        "  plt.show()\n"
      ]
    },
    {
      "cell_type": "code",
      "source": [
        "# Imprimir a Matriz de Confusão\n",
        "def showConfusionMatrix(cm):\n",
        "  confusion_matrix_display = ConfusionMatrixDisplay(confusion_matrix=cm, display_labels=['Não é spam','É spam'])\n",
        "  confusion_matrix_display.plot()\n",
        "  plt.show();"
      ],
      "metadata": {
        "id": "r5lWYcpHcD1n"
      },
      "execution_count": null,
      "outputs": []
    },
    {
      "cell_type": "code",
      "execution_count": null,
      "metadata": {
        "id": "-5qgnx3fxvSx"
      },
      "outputs": [],
      "source": [
        "# Realizar o  treinamento dos modelos\n",
        "def trainModels(model,classifier_name):\n",
        "  X,y = loadData()\n",
        "  \n",
        "  # Balanceamento\n",
        "  X,y = balanceData(X,y)\n",
        "\n",
        "  # Divisão conjunto de dado e treinamento\n",
        "  X_train, X_test, y_train, y_test = dataSplit(X,y)\n",
        "\n",
        "  print(f\"Iniciando treinamento do modelo {classifier_name}\\n\")\n",
        "  model.fit(X_train,y_train) # Faz o treinamento \n",
        "  pred = model.predict(X_test) # Vetor com a classificação de cada amostra do teste\n",
        "\n",
        "  # Acurácia\n",
        "  print(np.asarray(y_test).shape)\n",
        "  print((np.sum(pred == np.asarray(y_test)))/ np.asarray(y_test).shape[0])\n",
        "\n",
        "  cm = confusion_matrix(y_test, pred)\n",
        "  tn, fp, fn, tp = confusion_matrix(y_test, pred).ravel()\n",
        "\n",
        "  acc = ((tn+tp) / (tn+fp+fn+tp)) \n",
        "  tpr = (tp / (tp + fn) ) \n",
        "  tnr = (tn / (tn + fp))\n",
        "\n",
        "  print(f\"Acc: {acc}\")\n",
        "  print(f\"TPR: {tpr}\")\n",
        "  print(f\"TNR: {tnr}\")\n",
        "  showConfusionMatrix(cm)\n",
        "  plotRocCurve(y_test,pred)"
      ]
    },
    {
      "cell_type": "code",
      "execution_count": null,
      "metadata": {
        "colab": {
          "base_uri": "https://localhost:8080/",
          "height": 1000
        },
        "id": "dYQzZ85XyVP2",
        "outputId": "2def7034-da9d-479a-b1bf-4ec08477c437"
      },
      "outputs": [
        {
          "output_type": "stream",
          "name": "stdout",
          "text": [
            "Iniciando treinamento do modelo SVM Linear\n",
            "\n",
            "(2424,)\n",
            "0.9748349834983498\n",
            "Acc: 0.9748349834983498\n",
            "TPR: 0.9857142857142858\n",
            "TNR: 0.9643435980551054\n"
          ]
        },
        {
          "output_type": "display_data",
          "data": {
            "text/plain": [
              "<Figure size 432x288 with 2 Axes>"
            ],
            "image/png": "[encoded data removed]"
          },
          "metadata": {
            "needs_background": "light"
          }
        },
        {
          "output_type": "stream",
          "name": "stdout",
          "text": [
            "AUC: 0.9750289418846956\n"
          ]
        },
        {
          "output_type": "display_data",
          "data": {
            "text/plain": [
              "<Figure size 432x288 with 1 Axes>"
            ],
            "image/png": "[encoded data removed]"
          },
          "metadata": {
            "needs_background": "light"
          }
        },
        {
          "output_type": "stream",
          "name": "stdout",
          "text": [
            "Iniciando treinamento do modelo SVM Rbf\n",
            "\n",
            "(2424,)\n",
            "0.9434818481848185\n",
            "Acc: 0.9434818481848185\n",
            "TPR: 0.9966386554621849\n",
            "TNR: 0.8922204213938412\n"
          ]
        },
        {
          "output_type": "display_data",
          "data": {
            "text/plain": [
              "<Figure size 432x288 with 2 Axes>"
            ],
            "image/png": "[encoded data removed]"
          },
          "metadata": {
            "needs_background": "light"
          }
        },
        {
          "output_type": "stream",
          "name": "stdout",
          "text": [
            "AUC: 0.944429538428013\n"
          ]
        },
        {
          "output_type": "display_data",
          "data": {
            "text/plain": [
              "<Figure size 432x288 with 1 Axes>"
            ],
            "image/png": "[encoded data removed]"
          },
          "metadata": {
            "needs_background": "light"
          }
        },
        {
          "output_type": "stream",
          "name": "stdout",
          "text": [
            "64.77559368213018\n"
          ]
        }
      ],
      "source": [
        "def main():\n",
        "   start = time.time()\n",
        "   trainModels(SVC(kernel=\"linear\",probability=True), \"SVM Linear\")\n",
        "   trainModels(SVC(kernel=\"rbf\",probability=True), \"SVM Rbf\")\n",
        "   print(f\"{(time.time() - start) / 60 }\")\n",
        "   \n",
        "if __name__ == \"__main__\":\n",
        "  main()"
      ]
    }
  ],
  "metadata": {
    "colab": {
      "provenance": []
    },
    "gpuClass": "standard",
    "kernelspec": {
      "display_name": "Python 3",
      "name": "python3"
    },
    "language_info": {
      "name": "python"
    },
    "accelerator": "GPU"
  },
  "nbformat": 4,
  "nbformat_minor": 0
}